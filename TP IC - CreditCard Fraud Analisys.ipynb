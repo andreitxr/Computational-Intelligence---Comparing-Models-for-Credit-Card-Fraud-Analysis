{
  "nbformat": 4,
  "nbformat_minor": 0,
  "metadata": {
    "colab": {
      "name": "IC.ipynb",
      "provenance": [],
      "collapsed_sections": []
    },
    "kernelspec": {
      "name": "python3",
      "display_name": "Python 3"
    },
    "language_info": {
      "name": "python"
    }
  },
  "cells": [
    {
      "cell_type": "markdown",
      "source": [
        "# Trabalho Prático Final - Inteligência Computacional\n",
        "#### Alunos: Andrei Magalhães, Gabriel Negreiros, Pedro Elias e Vitor Gabriel"
      ],
      "metadata": {
        "id": "3SPSw5EkB0bF"
      }
    },
    {
      "cell_type": "code",
      "execution_count": 154,
      "metadata": {
        "id": "P-Pkzwwvnal_"
      },
      "outputs": [],
      "source": [
        "from __future__ import print_function\n",
        "import os\n",
        "\n",
        "import pandas as pd\n",
        "import numpy as np\n",
        "\n",
        "filepath = os.sep.join(['/content/creditcard.csv'])\n",
        "data_c = pd.read_csv(filepath, sep=',')"
      ]
    },
    {
      "cell_type": "code",
      "source": [
        "#Lê o conjunto de dados de entrada e exibe as 5 primeiras linhas\n",
        "data_c.head()"
      ],
      "metadata": {
        "colab": {
          "base_uri": "https://localhost:8080/",
          "height": 270
        },
        "id": "TMKGSz9Ws3cI",
        "outputId": "e82ae495-d132-4e2c-fc8b-96899e4ba115"
      },
      "execution_count": 155,
      "outputs": [
        {
          "output_type": "execute_result",
          "data": {
            "text/html": [
              "\n",
              "  <div id=\"df-0d2cc2ab-4e40-4544-8b0b-ad3e823065ad\">\n",
              "    <div class=\"colab-df-container\">\n",
              "      <div>\n",
              "<style scoped>\n",
              "    .dataframe tbody tr th:only-of-type {\n",
              "        vertical-align: middle;\n",
              "    }\n",
              "\n",
              "    .dataframe tbody tr th {\n",
              "        vertical-align: top;\n",
              "    }\n",
              "\n",
              "    .dataframe thead th {\n",
              "        text-align: right;\n",
              "    }\n",
              "</style>\n",
              "<table border=\"1\" class=\"dataframe\">\n",
              "  <thead>\n",
              "    <tr style=\"text-align: right;\">\n",
              "      <th></th>\n",
              "      <th>Time</th>\n",
              "      <th>V1</th>\n",
              "      <th>V2</th>\n",
              "      <th>V3</th>\n",
              "      <th>V4</th>\n",
              "      <th>V5</th>\n",
              "      <th>V6</th>\n",
              "      <th>V7</th>\n",
              "      <th>V8</th>\n",
              "      <th>V9</th>\n",
              "      <th>V10</th>\n",
              "      <th>V11</th>\n",
              "      <th>V12</th>\n",
              "      <th>V13</th>\n",
              "      <th>V14</th>\n",
              "      <th>V15</th>\n",
              "      <th>V16</th>\n",
              "      <th>V17</th>\n",
              "      <th>V18</th>\n",
              "      <th>V19</th>\n",
              "      <th>V20</th>\n",
              "      <th>V21</th>\n",
              "      <th>V22</th>\n",
              "      <th>V23</th>\n",
              "      <th>V24</th>\n",
              "      <th>V25</th>\n",
              "      <th>V26</th>\n",
              "      <th>V27</th>\n",
              "      <th>V28</th>\n",
              "      <th>Amount</th>\n",
              "      <th>Class</th>\n",
              "    </tr>\n",
              "  </thead>\n",
              "  <tbody>\n",
              "    <tr>\n",
              "      <th>0</th>\n",
              "      <td>0.0</td>\n",
              "      <td>-1.359807</td>\n",
              "      <td>-0.072781</td>\n",
              "      <td>2.536347</td>\n",
              "      <td>1.378155</td>\n",
              "      <td>-0.338321</td>\n",
              "      <td>0.462388</td>\n",
              "      <td>0.239599</td>\n",
              "      <td>0.098698</td>\n",
              "      <td>0.363787</td>\n",
              "      <td>0.090794</td>\n",
              "      <td>-0.551600</td>\n",
              "      <td>-0.617801</td>\n",
              "      <td>-0.991390</td>\n",
              "      <td>-0.311169</td>\n",
              "      <td>1.468177</td>\n",
              "      <td>-0.470401</td>\n",
              "      <td>0.207971</td>\n",
              "      <td>0.025791</td>\n",
              "      <td>0.403993</td>\n",
              "      <td>0.251412</td>\n",
              "      <td>-0.018307</td>\n",
              "      <td>0.277838</td>\n",
              "      <td>-0.110474</td>\n",
              "      <td>0.066928</td>\n",
              "      <td>0.128539</td>\n",
              "      <td>-0.189115</td>\n",
              "      <td>0.133558</td>\n",
              "      <td>-0.021053</td>\n",
              "      <td>149.62</td>\n",
              "      <td>0</td>\n",
              "    </tr>\n",
              "    <tr>\n",
              "      <th>1</th>\n",
              "      <td>0.0</td>\n",
              "      <td>1.191857</td>\n",
              "      <td>0.266151</td>\n",
              "      <td>0.166480</td>\n",
              "      <td>0.448154</td>\n",
              "      <td>0.060018</td>\n",
              "      <td>-0.082361</td>\n",
              "      <td>-0.078803</td>\n",
              "      <td>0.085102</td>\n",
              "      <td>-0.255425</td>\n",
              "      <td>-0.166974</td>\n",
              "      <td>1.612727</td>\n",
              "      <td>1.065235</td>\n",
              "      <td>0.489095</td>\n",
              "      <td>-0.143772</td>\n",
              "      <td>0.635558</td>\n",
              "      <td>0.463917</td>\n",
              "      <td>-0.114805</td>\n",
              "      <td>-0.183361</td>\n",
              "      <td>-0.145783</td>\n",
              "      <td>-0.069083</td>\n",
              "      <td>-0.225775</td>\n",
              "      <td>-0.638672</td>\n",
              "      <td>0.101288</td>\n",
              "      <td>-0.339846</td>\n",
              "      <td>0.167170</td>\n",
              "      <td>0.125895</td>\n",
              "      <td>-0.008983</td>\n",
              "      <td>0.014724</td>\n",
              "      <td>2.69</td>\n",
              "      <td>0</td>\n",
              "    </tr>\n",
              "    <tr>\n",
              "      <th>2</th>\n",
              "      <td>1.0</td>\n",
              "      <td>-1.358354</td>\n",
              "      <td>-1.340163</td>\n",
              "      <td>1.773209</td>\n",
              "      <td>0.379780</td>\n",
              "      <td>-0.503198</td>\n",
              "      <td>1.800499</td>\n",
              "      <td>0.791461</td>\n",
              "      <td>0.247676</td>\n",
              "      <td>-1.514654</td>\n",
              "      <td>0.207643</td>\n",
              "      <td>0.624501</td>\n",
              "      <td>0.066084</td>\n",
              "      <td>0.717293</td>\n",
              "      <td>-0.165946</td>\n",
              "      <td>2.345865</td>\n",
              "      <td>-2.890083</td>\n",
              "      <td>1.109969</td>\n",
              "      <td>-0.121359</td>\n",
              "      <td>-2.261857</td>\n",
              "      <td>0.524980</td>\n",
              "      <td>0.247998</td>\n",
              "      <td>0.771679</td>\n",
              "      <td>0.909412</td>\n",
              "      <td>-0.689281</td>\n",
              "      <td>-0.327642</td>\n",
              "      <td>-0.139097</td>\n",
              "      <td>-0.055353</td>\n",
              "      <td>-0.059752</td>\n",
              "      <td>378.66</td>\n",
              "      <td>0</td>\n",
              "    </tr>\n",
              "    <tr>\n",
              "      <th>3</th>\n",
              "      <td>1.0</td>\n",
              "      <td>-0.966272</td>\n",
              "      <td>-0.185226</td>\n",
              "      <td>1.792993</td>\n",
              "      <td>-0.863291</td>\n",
              "      <td>-0.010309</td>\n",
              "      <td>1.247203</td>\n",
              "      <td>0.237609</td>\n",
              "      <td>0.377436</td>\n",
              "      <td>-1.387024</td>\n",
              "      <td>-0.054952</td>\n",
              "      <td>-0.226487</td>\n",
              "      <td>0.178228</td>\n",
              "      <td>0.507757</td>\n",
              "      <td>-0.287924</td>\n",
              "      <td>-0.631418</td>\n",
              "      <td>-1.059647</td>\n",
              "      <td>-0.684093</td>\n",
              "      <td>1.965775</td>\n",
              "      <td>-1.232622</td>\n",
              "      <td>-0.208038</td>\n",
              "      <td>-0.108300</td>\n",
              "      <td>0.005274</td>\n",
              "      <td>-0.190321</td>\n",
              "      <td>-1.175575</td>\n",
              "      <td>0.647376</td>\n",
              "      <td>-0.221929</td>\n",
              "      <td>0.062723</td>\n",
              "      <td>0.061458</td>\n",
              "      <td>123.50</td>\n",
              "      <td>0</td>\n",
              "    </tr>\n",
              "    <tr>\n",
              "      <th>4</th>\n",
              "      <td>2.0</td>\n",
              "      <td>-1.158233</td>\n",
              "      <td>0.877737</td>\n",
              "      <td>1.548718</td>\n",
              "      <td>0.403034</td>\n",
              "      <td>-0.407193</td>\n",
              "      <td>0.095921</td>\n",
              "      <td>0.592941</td>\n",
              "      <td>-0.270533</td>\n",
              "      <td>0.817739</td>\n",
              "      <td>0.753074</td>\n",
              "      <td>-0.822843</td>\n",
              "      <td>0.538196</td>\n",
              "      <td>1.345852</td>\n",
              "      <td>-1.119670</td>\n",
              "      <td>0.175121</td>\n",
              "      <td>-0.451449</td>\n",
              "      <td>-0.237033</td>\n",
              "      <td>-0.038195</td>\n",
              "      <td>0.803487</td>\n",
              "      <td>0.408542</td>\n",
              "      <td>-0.009431</td>\n",
              "      <td>0.798278</td>\n",
              "      <td>-0.137458</td>\n",
              "      <td>0.141267</td>\n",
              "      <td>-0.206010</td>\n",
              "      <td>0.502292</td>\n",
              "      <td>0.219422</td>\n",
              "      <td>0.215153</td>\n",
              "      <td>69.99</td>\n",
              "      <td>0</td>\n",
              "    </tr>\n",
              "  </tbody>\n",
              "</table>\n",
              "</div>\n",
              "      <button class=\"colab-df-convert\" onclick=\"convertToInteractive('df-0d2cc2ab-4e40-4544-8b0b-ad3e823065ad')\"\n",
              "              title=\"Convert this dataframe to an interactive table.\"\n",
              "              style=\"display:none;\">\n",
              "        \n",
              "  <svg xmlns=\"http://www.w3.org/2000/svg\" height=\"24px\"viewBox=\"0 0 24 24\"\n",
              "       width=\"24px\">\n",
              "    <path d=\"M0 0h24v24H0V0z\" fill=\"none\"/>\n",
              "    <path d=\"M18.56 5.44l.94 2.06.94-2.06 2.06-.94-2.06-.94-.94-2.06-.94 2.06-2.06.94zm-11 1L8.5 8.5l.94-2.06 2.06-.94-2.06-.94L8.5 2.5l-.94 2.06-2.06.94zm10 10l.94 2.06.94-2.06 2.06-.94-2.06-.94-.94-2.06-.94 2.06-2.06.94z\"/><path d=\"M17.41 7.96l-1.37-1.37c-.4-.4-.92-.59-1.43-.59-.52 0-1.04.2-1.43.59L10.3 9.45l-7.72 7.72c-.78.78-.78 2.05 0 2.83L4 21.41c.39.39.9.59 1.41.59.51 0 1.02-.2 1.41-.59l7.78-7.78 2.81-2.81c.8-.78.8-2.07 0-2.86zM5.41 20L4 18.59l7.72-7.72 1.47 1.35L5.41 20z\"/>\n",
              "  </svg>\n",
              "      </button>\n",
              "      \n",
              "  <style>\n",
              "    .colab-df-container {\n",
              "      display:flex;\n",
              "      flex-wrap:wrap;\n",
              "      gap: 12px;\n",
              "    }\n",
              "\n",
              "    .colab-df-convert {\n",
              "      background-color: #E8F0FE;\n",
              "      border: none;\n",
              "      border-radius: 50%;\n",
              "      cursor: pointer;\n",
              "      display: none;\n",
              "      fill: #1967D2;\n",
              "      height: 32px;\n",
              "      padding: 0 0 0 0;\n",
              "      width: 32px;\n",
              "    }\n",
              "\n",
              "    .colab-df-convert:hover {\n",
              "      background-color: #E2EBFA;\n",
              "      box-shadow: 0px 1px 2px rgba(60, 64, 67, 0.3), 0px 1px 3px 1px rgba(60, 64, 67, 0.15);\n",
              "      fill: #174EA6;\n",
              "    }\n",
              "\n",
              "    [theme=dark] .colab-df-convert {\n",
              "      background-color: #3B4455;\n",
              "      fill: #D2E3FC;\n",
              "    }\n",
              "\n",
              "    [theme=dark] .colab-df-convert:hover {\n",
              "      background-color: #434B5C;\n",
              "      box-shadow: 0px 1px 3px 1px rgba(0, 0, 0, 0.15);\n",
              "      filter: drop-shadow(0px 1px 2px rgba(0, 0, 0, 0.3));\n",
              "      fill: #FFFFFF;\n",
              "    }\n",
              "  </style>\n",
              "\n",
              "      <script>\n",
              "        const buttonEl =\n",
              "          document.querySelector('#df-0d2cc2ab-4e40-4544-8b0b-ad3e823065ad button.colab-df-convert');\n",
              "        buttonEl.style.display =\n",
              "          google.colab.kernel.accessAllowed ? 'block' : 'none';\n",
              "\n",
              "        async function convertToInteractive(key) {\n",
              "          const element = document.querySelector('#df-0d2cc2ab-4e40-4544-8b0b-ad3e823065ad');\n",
              "          const dataTable =\n",
              "            await google.colab.kernel.invokeFunction('convertToInteractive',\n",
              "                                                     [key], {});\n",
              "          if (!dataTable) return;\n",
              "\n",
              "          const docLinkHtml = 'Like what you see? Visit the ' +\n",
              "            '<a target=\"_blank\" href=https://colab.research.google.com/notebooks/data_table.ipynb>data table notebook</a>'\n",
              "            + ' to learn more about interactive tables.';\n",
              "          element.innerHTML = '';\n",
              "          dataTable['output_type'] = 'display_data';\n",
              "          await google.colab.output.renderOutput(dataTable, element);\n",
              "          const docLink = document.createElement('div');\n",
              "          docLink.innerHTML = docLinkHtml;\n",
              "          element.appendChild(docLink);\n",
              "        }\n",
              "      </script>\n",
              "    </div>\n",
              "  </div>\n",
              "  "
            ],
            "text/plain": [
              "   Time        V1        V2        V3  ...       V27       V28  Amount  Class\n",
              "0   0.0 -1.359807 -0.072781  2.536347  ...  0.133558 -0.021053  149.62      0\n",
              "1   0.0  1.191857  0.266151  0.166480  ... -0.008983  0.014724    2.69      0\n",
              "2   1.0 -1.358354 -1.340163  1.773209  ... -0.055353 -0.059752  378.66      0\n",
              "3   1.0 -0.966272 -0.185226  1.792993  ...  0.062723  0.061458  123.50      0\n",
              "4   2.0 -1.158233  0.877737  1.548718  ...  0.219422  0.215153   69.99      0\n",
              "\n",
              "[5 rows x 31 columns]"
            ]
          },
          "metadata": {},
          "execution_count": 155
        }
      ]
    },
    {
      "cell_type": "code",
      "source": [
        "# Apresenta os tipos de dados das últimas 6 colunas\n",
        "data_c.dtypes.tail()"
      ],
      "metadata": {
        "colab": {
          "base_uri": "https://localhost:8080/"
        },
        "id": "V8prKYERs8ck",
        "outputId": "18053f72-9bae-40ba-a506-fecf3f0c65cf"
      },
      "execution_count": 156,
      "outputs": [
        {
          "output_type": "execute_result",
          "data": {
            "text/plain": [
              "V26       float64\n",
              "V27       float64\n",
              "V28       float64\n",
              "Amount    float64\n",
              "Class       int64\n",
              "dtype: object"
            ]
          },
          "metadata": {},
          "execution_count": 156
        }
      ]
    },
    {
      "cell_type": "code",
      "source": [
        "# Examinando a amostra. Como é posssível ver os dados estão desequilibrados.\n",
        "# 492 casos positivos e 284315 casos negativos\n",
        "data_c.Class.value_counts()"
      ],
      "metadata": {
        "colab": {
          "base_uri": "https://localhost:8080/"
        },
        "id": "yHs_YYIltFCa",
        "outputId": "a1dd0e3c-0be2-4629-8984-ba217831f0d4"
      },
      "execution_count": 157,
      "outputs": [
        {
          "output_type": "execute_result",
          "data": {
            "text/plain": [
              "0    284315\n",
              "1       492\n",
              "Name: Class, dtype: int64"
            ]
          },
          "metadata": {},
          "execution_count": 157
        }
      ]
    },
    {
      "cell_type": "code",
      "source": [
        "import matplotlib.pyplot as plt\n",
        "import seaborn as sns"
      ],
      "metadata": {
        "id": "6VhrJY-6tT6M"
      },
      "execution_count": 158,
      "outputs": []
    },
    {
      "cell_type": "code",
      "source": [
        "colors = [\"#0101DF\", \"#DF0101\"]\n",
        "\n",
        "# Plota um gráfico com a distribuição das classes\n",
        "sns.countplot('Class', data=data_c, palette=colors)\n",
        "plt.title('Distribuição da Classe \\n (0: Não Fraude || 1: Fraude)', fontsize=14)"
      ],
      "metadata": {
        "colab": {
          "base_uri": "https://localhost:8080/",
          "height": 330
        },
        "id": "0T9dwE-btIOS",
        "outputId": "e294b3e8-4336-4cd2-bde8-0754a0358960"
      },
      "execution_count": 159,
      "outputs": [
        {
          "output_type": "execute_result",
          "data": {
            "text/plain": [
              "Text(0.5, 1.0, 'Distribuição da Classe \\n (0: Não Fraude || 1: Fraude)')"
            ]
          },
          "metadata": {},
          "execution_count": 159
        },
        {
          "output_type": "display_data",
          "data": {
            "image/png": "[encoded data removed]",
            "text/plain": [
              "<Figure size 432x288 with 1 Axes>"
            ]
          },
          "metadata": {
            "needs_background": "light"
          }
        }
      ]
    },
    {
      "cell_type": "code",
      "source": [
        "# Plata dois gráficos com a distribuição das features 'Amout' e 'Time'\n",
        "fig, ax = plt.subplots(1, 2, figsize=(18,4))\n",
        "\n",
        "amount_val = data_c['Amount'].values\n",
        "time_val = data_c['Time'].values\n",
        "\n",
        "# Gráfico Densidade X Valor 'Amount'\n",
        "# Permite analisar a densidade dos valores das transações\n",
        "sns.distplot(amount_val, ax=ax[0], color='r')\n",
        "ax[0].set_title('Distribuição - Transaction Amount', fontsize=14)\n",
        "ax[0].set_xlim([min(amount_val), max(amount_val)])\n",
        "\n",
        "# Gráfico Densidade x Tempo 'Tempo'\n",
        "#Permite analisar em qual tempo houve maior densidade de transações\n",
        "sns.distplot(time_val, ax=ax[1], color='b')\n",
        "ax[1].set_title('Distribuição - Transaction Time', fontsize=14)\n",
        "ax[1].set_xlim([min(time_val), max(time_val)])\n",
        "\n",
        "\n",
        "\n",
        "plt.show()"
      ],
      "metadata": {
        "colab": {
          "base_uri": "https://localhost:8080/",
          "height": 282
        },
        "id": "fhpWWxFLypq6",
        "outputId": "48e557a0-bf47-40f0-f6d9-fb2820f3dc7c"
      },
      "execution_count": 160,
      "outputs": [
        {
          "output_type": "display_data",
          "data": {
            "image/png": "[encoded data removed]",
            "text/plain": [
              "<Figure size 1296x288 with 2 Axes>"
            ]
          },
          "metadata": {
            "needs_background": "light"
          }
        }
      ]
    },
    {
      "cell_type": "markdown",
      "source": [
        "### Dimensionando as features"
      ],
      "metadata": {
        "id": "YP7spBVEtglh"
      }
    },
    {
      "cell_type": "code",
      "source": [
        "# Serão tratadas as features Amount e Time. Demais features já haviam sido tratadas previamente. \n",
        "from sklearn.preprocessing import RobustScaler\n",
        "\n",
        "# Será o usado o método RobustScaler que é menos propenso a outliers\n",
        "rob_scaler = RobustScaler()\n",
        "\n",
        "# As features que possuem dados de ponto flutuante, Amount e Time, serão normalizada de -1 (mínimo) a 1,0 (máximo)\n",
        "data_c['scaled_amount'] = rob_scaler.fit_transform(data_c['Amount'].values.reshape(-1,1))\n",
        "data_c['scaled_time'] = rob_scaler.fit_transform(data_c['Time'].values.reshape(-1,1))\n",
        "\n",
        "data_c.drop(['Time','Amount'], axis=1, inplace=True)"
      ],
      "metadata": {
        "id": "hLJbEA5dtk2r"
      },
      "execution_count": 161,
      "outputs": []
    },
    {
      "cell_type": "code",
      "source": [
        "#Guarda as variáveis dimensionadas\n",
        "scaled_amount = data_c['scaled_amount']\n",
        "scaled_time = data_c['scaled_time']\n",
        "\n",
        "#Dropa as variáveis escaladas no dataset\n",
        "data_c.drop(['scaled_amount', 'scaled_time'], axis=1, inplace=True)\n",
        "data_c.insert(0, 'scaled_amount', scaled_amount)\n",
        "data_c.insert(1, 'scaled_time', scaled_time)\n",
        "\n",
        "# Apresenta o dataset com todas as features tratadas\n",
        "data_c.head()"
      ],
      "metadata": {
        "colab": {
          "base_uri": "https://localhost:8080/",
          "height": 270
        },
        "id": "31m9OTTotsOA",
        "outputId": "72018eb6-6007-4fc8-c3c5-ee74311496fe"
      },
      "execution_count": 162,
      "outputs": [
        {
          "output_type": "execute_result",
          "data": {
            "text/html": [
              "\n",
              "  <div id=\"df-c44fc4c5-2354-4a59-bc95-358e65f77e0b\">\n",
              "    <div class=\"colab-df-container\">\n",
              "      <div>\n",
              "<style scoped>\n",
              "    .dataframe tbody tr th:only-of-type {\n",
              "        vertical-align: middle;\n",
              "    }\n",
              "\n",
              "    .dataframe tbody tr th {\n",
              "        vertical-align: top;\n",
              "    }\n",
              "\n",
              "    .dataframe thead th {\n",
              "        text-align: right;\n",
              "    }\n",
              "</style>\n",
              "<table border=\"1\" class=\"dataframe\">\n",
              "  <thead>\n",
              "    <tr style=\"text-align: right;\">\n",
              "      <th></th>\n",
              "      <th>scaled_amount</th>\n",
              "      <th>scaled_time</th>\n",
              "      <th>V1</th>\n",
              "      <th>V2</th>\n",
              "      <th>V3</th>\n",
              "      <th>V4</th>\n",
              "      <th>V5</th>\n",
              "      <th>V6</th>\n",
              "      <th>V7</th>\n",
              "      <th>V8</th>\n",
              "      <th>V9</th>\n",
              "      <th>V10</th>\n",
              "      <th>V11</th>\n",
              "      <th>V12</th>\n",
              "      <th>V13</th>\n",
              "      <th>V14</th>\n",
              "      <th>V15</th>\n",
              "      <th>V16</th>\n",
              "      <th>V17</th>\n",
              "      <th>V18</th>\n",
              "      <th>V19</th>\n",
              "      <th>V20</th>\n",
              "      <th>V21</th>\n",
              "      <th>V22</th>\n",
              "      <th>V23</th>\n",
              "      <th>V24</th>\n",
              "      <th>V25</th>\n",
              "      <th>V26</th>\n",
              "      <th>V27</th>\n",
              "      <th>V28</th>\n",
              "      <th>Class</th>\n",
              "    </tr>\n",
              "  </thead>\n",
              "  <tbody>\n",
              "    <tr>\n",
              "      <th>0</th>\n",
              "      <td>1.783274</td>\n",
              "      <td>-0.994983</td>\n",
              "      <td>-1.359807</td>\n",
              "      <td>-0.072781</td>\n",
              "      <td>2.536347</td>\n",
              "      <td>1.378155</td>\n",
              "      <td>-0.338321</td>\n",
              "      <td>0.462388</td>\n",
              "      <td>0.239599</td>\n",
              "      <td>0.098698</td>\n",
              "      <td>0.363787</td>\n",
              "      <td>0.090794</td>\n",
              "      <td>-0.551600</td>\n",
              "      <td>-0.617801</td>\n",
              "      <td>-0.991390</td>\n",
              "      <td>-0.311169</td>\n",
              "      <td>1.468177</td>\n",
              "      <td>-0.470401</td>\n",
              "      <td>0.207971</td>\n",
              "      <td>0.025791</td>\n",
              "      <td>0.403993</td>\n",
              "      <td>0.251412</td>\n",
              "      <td>-0.018307</td>\n",
              "      <td>0.277838</td>\n",
              "      <td>-0.110474</td>\n",
              "      <td>0.066928</td>\n",
              "      <td>0.128539</td>\n",
              "      <td>-0.189115</td>\n",
              "      <td>0.133558</td>\n",
              "      <td>-0.021053</td>\n",
              "      <td>0</td>\n",
              "    </tr>\n",
              "    <tr>\n",
              "      <th>1</th>\n",
              "      <td>-0.269825</td>\n",
              "      <td>-0.994983</td>\n",
              "      <td>1.191857</td>\n",
              "      <td>0.266151</td>\n",
              "      <td>0.166480</td>\n",
              "      <td>0.448154</td>\n",
              "      <td>0.060018</td>\n",
              "      <td>-0.082361</td>\n",
              "      <td>-0.078803</td>\n",
              "      <td>0.085102</td>\n",
              "      <td>-0.255425</td>\n",
              "      <td>-0.166974</td>\n",
              "      <td>1.612727</td>\n",
              "      <td>1.065235</td>\n",
              "      <td>0.489095</td>\n",
              "      <td>-0.143772</td>\n",
              "      <td>0.635558</td>\n",
              "      <td>0.463917</td>\n",
              "      <td>-0.114805</td>\n",
              "      <td>-0.183361</td>\n",
              "      <td>-0.145783</td>\n",
              "      <td>-0.069083</td>\n",
              "      <td>-0.225775</td>\n",
              "      <td>-0.638672</td>\n",
              "      <td>0.101288</td>\n",
              "      <td>-0.339846</td>\n",
              "      <td>0.167170</td>\n",
              "      <td>0.125895</td>\n",
              "      <td>-0.008983</td>\n",
              "      <td>0.014724</td>\n",
              "      <td>0</td>\n",
              "    </tr>\n",
              "    <tr>\n",
              "      <th>2</th>\n",
              "      <td>4.983721</td>\n",
              "      <td>-0.994972</td>\n",
              "      <td>-1.358354</td>\n",
              "      <td>-1.340163</td>\n",
              "      <td>1.773209</td>\n",
              "      <td>0.379780</td>\n",
              "      <td>-0.503198</td>\n",
              "      <td>1.800499</td>\n",
              "      <td>0.791461</td>\n",
              "      <td>0.247676</td>\n",
              "      <td>-1.514654</td>\n",
              "      <td>0.207643</td>\n",
              "      <td>0.624501</td>\n",
              "      <td>0.066084</td>\n",
              "      <td>0.717293</td>\n",
              "      <td>-0.165946</td>\n",
              "      <td>2.345865</td>\n",
              "      <td>-2.890083</td>\n",
              "      <td>1.109969</td>\n",
              "      <td>-0.121359</td>\n",
              "      <td>-2.261857</td>\n",
              "      <td>0.524980</td>\n",
              "      <td>0.247998</td>\n",
              "      <td>0.771679</td>\n",
              "      <td>0.909412</td>\n",
              "      <td>-0.689281</td>\n",
              "      <td>-0.327642</td>\n",
              "      <td>-0.139097</td>\n",
              "      <td>-0.055353</td>\n",
              "      <td>-0.059752</td>\n",
              "      <td>0</td>\n",
              "    </tr>\n",
              "    <tr>\n",
              "      <th>3</th>\n",
              "      <td>1.418291</td>\n",
              "      <td>-0.994972</td>\n",
              "      <td>-0.966272</td>\n",
              "      <td>-0.185226</td>\n",
              "      <td>1.792993</td>\n",
              "      <td>-0.863291</td>\n",
              "      <td>-0.010309</td>\n",
              "      <td>1.247203</td>\n",
              "      <td>0.237609</td>\n",
              "      <td>0.377436</td>\n",
              "      <td>-1.387024</td>\n",
              "      <td>-0.054952</td>\n",
              "      <td>-0.226487</td>\n",
              "      <td>0.178228</td>\n",
              "      <td>0.507757</td>\n",
              "      <td>-0.287924</td>\n",
              "      <td>-0.631418</td>\n",
              "      <td>-1.059647</td>\n",
              "      <td>-0.684093</td>\n",
              "      <td>1.965775</td>\n",
              "      <td>-1.232622</td>\n",
              "      <td>-0.208038</td>\n",
              "      <td>-0.108300</td>\n",
              "      <td>0.005274</td>\n",
              "      <td>-0.190321</td>\n",
              "      <td>-1.175575</td>\n",
              "      <td>0.647376</td>\n",
              "      <td>-0.221929</td>\n",
              "      <td>0.062723</td>\n",
              "      <td>0.061458</td>\n",
              "      <td>0</td>\n",
              "    </tr>\n",
              "    <tr>\n",
              "      <th>4</th>\n",
              "      <td>0.670579</td>\n",
              "      <td>-0.994960</td>\n",
              "      <td>-1.158233</td>\n",
              "      <td>0.877737</td>\n",
              "      <td>1.548718</td>\n",
              "      <td>0.403034</td>\n",
              "      <td>-0.407193</td>\n",
              "      <td>0.095921</td>\n",
              "      <td>0.592941</td>\n",
              "      <td>-0.270533</td>\n",
              "      <td>0.817739</td>\n",
              "      <td>0.753074</td>\n",
              "      <td>-0.822843</td>\n",
              "      <td>0.538196</td>\n",
              "      <td>1.345852</td>\n",
              "      <td>-1.119670</td>\n",
              "      <td>0.175121</td>\n",
              "      <td>-0.451449</td>\n",
              "      <td>-0.237033</td>\n",
              "      <td>-0.038195</td>\n",
              "      <td>0.803487</td>\n",
              "      <td>0.408542</td>\n",
              "      <td>-0.009431</td>\n",
              "      <td>0.798278</td>\n",
              "      <td>-0.137458</td>\n",
              "      <td>0.141267</td>\n",
              "      <td>-0.206010</td>\n",
              "      <td>0.502292</td>\n",
              "      <td>0.219422</td>\n",
              "      <td>0.215153</td>\n",
              "      <td>0</td>\n",
              "    </tr>\n",
              "  </tbody>\n",
              "</table>\n",
              "</div>\n",
              "      <button class=\"colab-df-convert\" onclick=\"convertToInteractive('df-c44fc4c5-2354-4a59-bc95-358e65f77e0b')\"\n",
              "              title=\"Convert this dataframe to an interactive table.\"\n",
              "              style=\"display:none;\">\n",
              "        \n",
              "  <svg xmlns=\"http://www.w3.org/2000/svg\" height=\"24px\"viewBox=\"0 0 24 24\"\n",
              "       width=\"24px\">\n",
              "    <path d=\"M0 0h24v24H0V0z\" fill=\"none\"/>\n",
              "    <path d=\"M18.56 5.44l.94 2.06.94-2.06 2.06-.94-2.06-.94-.94-2.06-.94 2.06-2.06.94zm-11 1L8.5 8.5l.94-2.06 2.06-.94-2.06-.94L8.5 2.5l-.94 2.06-2.06.94zm10 10l.94 2.06.94-2.06 2.06-.94-2.06-.94-.94-2.06-.94 2.06-2.06.94z\"/><path d=\"M17.41 7.96l-1.37-1.37c-.4-.4-.92-.59-1.43-.59-.52 0-1.04.2-1.43.59L10.3 9.45l-7.72 7.72c-.78.78-.78 2.05 0 2.83L4 21.41c.39.39.9.59 1.41.59.51 0 1.02-.2 1.41-.59l7.78-7.78 2.81-2.81c.8-.78.8-2.07 0-2.86zM5.41 20L4 18.59l7.72-7.72 1.47 1.35L5.41 20z\"/>\n",
              "  </svg>\n",
              "      </button>\n",
              "      \n",
              "  <style>\n",
              "    .colab-df-container {\n",
              "      display:flex;\n",
              "      flex-wrap:wrap;\n",
              "      gap: 12px;\n",
              "    }\n",
              "\n",
              "    .colab-df-convert {\n",
              "      background-color: #E8F0FE;\n",
              "      border: none;\n",
              "      border-radius: 50%;\n",
              "      cursor: pointer;\n",
              "      display: none;\n",
              "      fill: #1967D2;\n",
              "      height: 32px;\n",
              "      padding: 0 0 0 0;\n",
              "      width: 32px;\n",
              "    }\n",
              "\n",
              "    .colab-df-convert:hover {\n",
              "      background-color: #E2EBFA;\n",
              "      box-shadow: 0px 1px 2px rgba(60, 64, 67, 0.3), 0px 1px 3px 1px rgba(60, 64, 67, 0.15);\n",
              "      fill: #174EA6;\n",
              "    }\n",
              "\n",
              "    [theme=dark] .colab-df-convert {\n",
              "      background-color: #3B4455;\n",
              "      fill: #D2E3FC;\n",
              "    }\n",
              "\n",
              "    [theme=dark] .colab-df-convert:hover {\n",
              "      background-color: #434B5C;\n",
              "      box-shadow: 0px 1px 3px 1px rgba(0, 0, 0, 0.15);\n",
              "      filter: drop-shadow(0px 1px 2px rgba(0, 0, 0, 0.3));\n",
              "      fill: #FFFFFF;\n",
              "    }\n",
              "  </style>\n",
              "\n",
              "      <script>\n",
              "        const buttonEl =\n",
              "          document.querySelector('#df-c44fc4c5-2354-4a59-bc95-358e65f77e0b button.colab-df-convert');\n",
              "        buttonEl.style.display =\n",
              "          google.colab.kernel.accessAllowed ? 'block' : 'none';\n",
              "\n",
              "        async function convertToInteractive(key) {\n",
              "          const element = document.querySelector('#df-c44fc4c5-2354-4a59-bc95-358e65f77e0b');\n",
              "          const dataTable =\n",
              "            await google.colab.kernel.invokeFunction('convertToInteractive',\n",
              "                                                     [key], {});\n",
              "          if (!dataTable) return;\n",
              "\n",
              "          const docLinkHtml = 'Like what you see? Visit the ' +\n",
              "            '<a target=\"_blank\" href=https://colab.research.google.com/notebooks/data_table.ipynb>data table notebook</a>'\n",
              "            + ' to learn more about interactive tables.';\n",
              "          element.innerHTML = '';\n",
              "          dataTable['output_type'] = 'display_data';\n",
              "          await google.colab.output.renderOutput(dataTable, element);\n",
              "          const docLink = document.createElement('div');\n",
              "          docLink.innerHTML = docLinkHtml;\n",
              "          element.appendChild(docLink);\n",
              "        }\n",
              "      </script>\n",
              "    </div>\n",
              "  </div>\n",
              "  "
            ],
            "text/plain": [
              "   scaled_amount  scaled_time        V1  ...       V27       V28  Class\n",
              "0       1.783274    -0.994983 -1.359807  ...  0.133558 -0.021053      0\n",
              "1      -0.269825    -0.994983  1.191857  ... -0.008983  0.014724      0\n",
              "2       4.983721    -0.994972 -1.358354  ... -0.055353 -0.059752      0\n",
              "3       1.418291    -0.994972 -0.966272  ...  0.062723  0.061458      0\n",
              "4       0.670579    -0.994960 -1.158233  ...  0.219422  0.215153      0\n",
              "\n",
              "[5 rows x 31 columns]"
            ]
          },
          "metadata": {},
          "execution_count": 162
        }
      ]
    },
    {
      "cell_type": "markdown",
      "source": [
        "### Estratificando a base de dados original \n",
        "- A ideia inicial era usar o Dataset original, usando o método de estratificação para separar os conjuntos de treino e teste, mas decidimos por não usar para não haver interferencia do desbalanceamento no resultado"
      ],
      "metadata": {
        "id": "_T5Ucl4aAj8o"
      }
    },
    {
      "cell_type": "code",
      "source": [
        "from sklearn.model_selection import train_test_split\n",
        "#from sklearn.model_selection import StratifiedShuffleSplit\n",
        "from sklearn.model_selection import KFold, StratifiedKFold\n",
        "\n",
        "# Mostra a percentagem de cada classe\n",
        "print('Não Fraude', round(data_c['Class'].value_counts()[0]/len(data_c) * 100,2), '%')\n",
        "print('Fraude', round(data_c['Class'].value_counts()[1]/len(data_c) * 100,2), '%')\n",
        "\n",
        "X = data_c.drop('Class', axis=1)\n",
        "y = data_c['Class']\n",
        "\n",
        "# Instancia o Método de estratificação StratifiedKFold\n",
        "sss = StratifiedKFold(n_splits=5, random_state=None, shuffle=False)\n",
        "# No StratifiedKFolds, cada conjunto de teste não deve se sobrepor, mesmo com o shuffle. Com KFolds e shuffle, os dados são embaralhados uma vez no início e depois divididos no número de divisões desejadas. Os dados de teste são sempre uma das divisões, os dados do trem são o resto.\n",
        "\n",
        "# Faz o processo iterativo de estratificação dos conjuntos de treino e teste\n",
        "for train_index, test_index in sss.split(X, y):\n",
        "    original_Xtrain, original_Xtest = X.iloc[train_index], X.iloc[test_index]\n",
        "    original_ytrain, original_ytest = y.iloc[train_index], y.iloc[test_index]\n",
        "\n",
        "\n",
        "# Transforme em uma matriz\n",
        "original_Xtrain = original_Xtrain.values\n",
        "original_Xtest = original_Xtest.values\n",
        "original_ytrain = original_ytrain.values\n",
        "original_ytest = original_ytest.values\n",
        "\n",
        "# Veja se a distribuição de rótulos de trem e de teste são distribuídas de forma semelhante\n",
        "train_unique_label, train_counts_label = np.unique(original_ytrain, return_counts=True)\n",
        "test_unique_label, test_counts_label = np.unique(original_ytest, return_counts=True)\n",
        "\n",
        "print('\\nDistribuição Estratificada - Treino e Teste:')\n",
        "print(train_counts_label/ len(original_ytrain))\n",
        "print(test_counts_label/ len(original_ytest))"
      ],
      "metadata": {
        "colab": {
          "base_uri": "https://localhost:8080/"
        },
        "id": "6lE89hijAgyp",
        "outputId": "c12f6192-0c17-4c53-e0b7-9fef0428470c"
      },
      "execution_count": 163,
      "outputs": [
        {
          "output_type": "stream",
          "name": "stdout",
          "text": [
            "Não Fraude 99.83 %\n",
            "Fraude 0.17 %\n",
            "\n",
            "Distribuição Estratificada - Treino e Teste:\n",
            "[0.99827076 0.00172924]\n",
            "[0.99827952 0.00172048]\n"
          ]
        }
      ]
    },
    {
      "cell_type": "markdown",
      "source": [
        "## Cria DataFrame Balanceado - Random Under-Sampling\n",
        "- Para o projeto será considerado este dataframe balanceado"
      ],
      "metadata": {
        "id": "d3P9pQqat8tz"
      }
    },
    {
      "cell_type": "code",
      "source": [
        "# Como nossas classes são altamente distorcidas, vamos torná-las equivalentes para ter uma distribuição normal das classes.\n",
        "# Os dados serão embaralhados dados antes de criar a sub-amostra\n",
        "\n",
        "df = data_c.sample(frac=1)\n",
        "\n",
        "# Variável armazena os dados de classes fraude (492). \n",
        "fraud_df = df.loc[data_c['Class'] == 1]\n",
        "# O conjunto Não Fraude será criado com o mesmo tamanho do conjunto fraude (492).\n",
        "non_fraud_df = df.loc[data_c['Class'] == 0][:492]\n",
        "\n",
        "#Gera a distribuição normal do conjunto\n",
        "normal_distributed_df = pd.concat([fraud_df, non_fraud_df])\n",
        "\n",
        "# Cria o novo dataframe equilibrado. Embaralha as linhas do dataframe criado\n",
        "new_df = normal_distributed_df.sample(frac=1, random_state=42)\n",
        "\n",
        "# Apresenta o novo dataframe equilibrado recém criado\n",
        "new_df.head()"
      ],
      "metadata": {
        "colab": {
          "base_uri": "https://localhost:8080/",
          "height": 270
        },
        "id": "FZtBLzxxt3gi",
        "outputId": "0e4e347a-e4e9-4ce0-d622-3f4d0e12867c"
      },
      "execution_count": 164,
      "outputs": [
        {
          "output_type": "execute_result",
          "data": {
            "text/html": [
              "\n",
              "  <div id=\"df-fa0d6bad-885c-4e84-b33f-0c73286829a6\">\n",
              "    <div class=\"colab-df-container\">\n",
              "      <div>\n",
              "<style scoped>\n",
              "    .dataframe tbody tr th:only-of-type {\n",
              "        vertical-align: middle;\n",
              "    }\n",
              "\n",
              "    .dataframe tbody tr th {\n",
              "        vertical-align: top;\n",
              "    }\n",
              "\n",
              "    .dataframe thead th {\n",
              "        text-align: right;\n",
              "    }\n",
              "</style>\n",
              "<table border=\"1\" class=\"dataframe\">\n",
              "  <thead>\n",
              "    <tr style=\"text-align: right;\">\n",
              "      <th></th>\n",
              "      <th>scaled_amount</th>\n",
              "      <th>scaled_time</th>\n",
              "      <th>V1</th>\n",
              "      <th>V2</th>\n",
              "      <th>V3</th>\n",
              "      <th>V4</th>\n",
              "      <th>V5</th>\n",
              "      <th>V6</th>\n",
              "      <th>V7</th>\n",
              "      <th>V8</th>\n",
              "      <th>V9</th>\n",
              "      <th>V10</th>\n",
              "      <th>V11</th>\n",
              "      <th>V12</th>\n",
              "      <th>V13</th>\n",
              "      <th>V14</th>\n",
              "      <th>V15</th>\n",
              "      <th>V16</th>\n",
              "      <th>V17</th>\n",
              "      <th>V18</th>\n",
              "      <th>V19</th>\n",
              "      <th>V20</th>\n",
              "      <th>V21</th>\n",
              "      <th>V22</th>\n",
              "      <th>V23</th>\n",
              "      <th>V24</th>\n",
              "      <th>V25</th>\n",
              "      <th>V26</th>\n",
              "      <th>V27</th>\n",
              "      <th>V28</th>\n",
              "      <th>Class</th>\n",
              "    </tr>\n",
              "  </thead>\n",
              "  <tbody>\n",
              "    <tr>\n",
              "      <th>89563</th>\n",
              "      <td>1.928317</td>\n",
              "      <td>-0.259225</td>\n",
              "      <td>1.045790</td>\n",
              "      <td>-1.260703</td>\n",
              "      <td>0.280654</td>\n",
              "      <td>-0.746802</td>\n",
              "      <td>-1.175203</td>\n",
              "      <td>0.000616</td>\n",
              "      <td>-0.818749</td>\n",
              "      <td>0.235795</td>\n",
              "      <td>-0.562817</td>\n",
              "      <td>0.745514</td>\n",
              "      <td>0.970690</td>\n",
              "      <td>-1.224913</td>\n",
              "      <td>-2.273770</td>\n",
              "      <td>0.500012</td>\n",
              "      <td>0.738975</td>\n",
              "      <td>1.400092</td>\n",
              "      <td>0.237205</td>\n",
              "      <td>-0.836268</td>\n",
              "      <td>0.498085</td>\n",
              "      <td>0.211265</td>\n",
              "      <td>0.226498</td>\n",
              "      <td>0.106577</td>\n",
              "      <td>-0.108630</td>\n",
              "      <td>-0.362224</td>\n",
              "      <td>0.164460</td>\n",
              "      <td>-0.257689</td>\n",
              "      <td>-0.016337</td>\n",
              "      <td>0.025309</td>\n",
              "      <td>0</td>\n",
              "    </tr>\n",
              "    <tr>\n",
              "      <th>42700</th>\n",
              "      <td>0.115420</td>\n",
              "      <td>-0.510908</td>\n",
              "      <td>-8.440284</td>\n",
              "      <td>6.147653</td>\n",
              "      <td>-11.683706</td>\n",
              "      <td>6.702780</td>\n",
              "      <td>-8.155839</td>\n",
              "      <td>-3.716264</td>\n",
              "      <td>-12.407313</td>\n",
              "      <td>5.626571</td>\n",
              "      <td>-6.232161</td>\n",
              "      <td>-13.386683</td>\n",
              "      <td>7.605559</td>\n",
              "      <td>-13.351815</td>\n",
              "      <td>0.827050</td>\n",
              "      <td>-14.979477</td>\n",
              "      <td>1.532813</td>\n",
              "      <td>-11.771497</td>\n",
              "      <td>-20.299217</td>\n",
              "      <td>-7.609110</td>\n",
              "      <td>3.809136</td>\n",
              "      <td>0.520732</td>\n",
              "      <td>2.192855</td>\n",
              "      <td>-0.282597</td>\n",
              "      <td>0.008068</td>\n",
              "      <td>0.403858</td>\n",
              "      <td>-0.018788</td>\n",
              "      <td>0.522722</td>\n",
              "      <td>0.792691</td>\n",
              "      <td>0.067790</td>\n",
              "      <td>1</td>\n",
              "    </tr>\n",
              "    <tr>\n",
              "      <th>93377</th>\n",
              "      <td>-0.293440</td>\n",
              "      <td>-0.238607</td>\n",
              "      <td>-0.655168</td>\n",
              "      <td>1.026345</td>\n",
              "      <td>0.261436</td>\n",
              "      <td>-1.815087</td>\n",
              "      <td>-0.130498</td>\n",
              "      <td>-1.528285</td>\n",
              "      <td>0.729200</td>\n",
              "      <td>0.144637</td>\n",
              "      <td>0.632436</td>\n",
              "      <td>-1.614775</td>\n",
              "      <td>-0.727808</td>\n",
              "      <td>1.016521</td>\n",
              "      <td>0.443419</td>\n",
              "      <td>0.337271</td>\n",
              "      <td>-0.208682</td>\n",
              "      <td>-0.870124</td>\n",
              "      <td>-0.039723</td>\n",
              "      <td>-0.251038</td>\n",
              "      <td>0.144476</td>\n",
              "      <td>-0.150589</td>\n",
              "      <td>0.130644</td>\n",
              "      <td>0.618988</td>\n",
              "      <td>-0.170078</td>\n",
              "      <td>0.432910</td>\n",
              "      <td>-0.025167</td>\n",
              "      <td>-0.819797</td>\n",
              "      <td>0.322096</td>\n",
              "      <td>0.180763</td>\n",
              "      <td>0</td>\n",
              "    </tr>\n",
              "    <tr>\n",
              "      <th>245556</th>\n",
              "      <td>4.694334</td>\n",
              "      <td>0.800174</td>\n",
              "      <td>1.322724</td>\n",
              "      <td>-0.843911</td>\n",
              "      <td>-2.096888</td>\n",
              "      <td>0.759759</td>\n",
              "      <td>-0.196377</td>\n",
              "      <td>-1.166353</td>\n",
              "      <td>0.482534</td>\n",
              "      <td>-0.349791</td>\n",
              "      <td>1.045007</td>\n",
              "      <td>-1.474974</td>\n",
              "      <td>0.011037</td>\n",
              "      <td>0.483019</td>\n",
              "      <td>0.665273</td>\n",
              "      <td>-2.332793</td>\n",
              "      <td>0.820578</td>\n",
              "      <td>0.461206</td>\n",
              "      <td>1.468052</td>\n",
              "      <td>0.891706</td>\n",
              "      <td>-0.457934</td>\n",
              "      <td>0.585435</td>\n",
              "      <td>0.133815</td>\n",
              "      <td>-0.121562</td>\n",
              "      <td>-0.208574</td>\n",
              "      <td>-0.254752</td>\n",
              "      <td>-0.098324</td>\n",
              "      <td>-0.613874</td>\n",
              "      <td>0.002654</td>\n",
              "      <td>0.072386</td>\n",
              "      <td>1</td>\n",
              "    </tr>\n",
              "    <tr>\n",
              "      <th>154718</th>\n",
              "      <td>-0.307413</td>\n",
              "      <td>0.211198</td>\n",
              "      <td>-5.603690</td>\n",
              "      <td>5.222193</td>\n",
              "      <td>-7.516830</td>\n",
              "      <td>8.117724</td>\n",
              "      <td>-2.756858</td>\n",
              "      <td>-1.574565</td>\n",
              "      <td>-6.330343</td>\n",
              "      <td>2.998419</td>\n",
              "      <td>-4.508167</td>\n",
              "      <td>-7.334377</td>\n",
              "      <td>7.188724</td>\n",
              "      <td>-10.655181</td>\n",
              "      <td>2.594680</td>\n",
              "      <td>-10.242859</td>\n",
              "      <td>-0.191158</td>\n",
              "      <td>-5.504334</td>\n",
              "      <td>-8.697777</td>\n",
              "      <td>-1.934225</td>\n",
              "      <td>1.958750</td>\n",
              "      <td>0.227526</td>\n",
              "      <td>1.242896</td>\n",
              "      <td>0.428408</td>\n",
              "      <td>-0.101184</td>\n",
              "      <td>-0.520199</td>\n",
              "      <td>-0.176938</td>\n",
              "      <td>0.461450</td>\n",
              "      <td>-0.106625</td>\n",
              "      <td>-0.479662</td>\n",
              "      <td>1</td>\n",
              "    </tr>\n",
              "  </tbody>\n",
              "</table>\n",
              "</div>\n",
              "      <button class=\"colab-df-convert\" onclick=\"convertToInteractive('df-fa0d6bad-885c-4e84-b33f-0c73286829a6')\"\n",
              "              title=\"Convert this dataframe to an interactive table.\"\n",
              "              style=\"display:none;\">\n",
              "        \n",
              "  <svg xmlns=\"http://www.w3.org/2000/svg\" height=\"24px\"viewBox=\"0 0 24 24\"\n",
              "       width=\"24px\">\n",
              "    <path d=\"M0 0h24v24H0V0z\" fill=\"none\"/>\n",
              "    <path d=\"M18.56 5.44l.94 2.06.94-2.06 2.06-.94-2.06-.94-.94-2.06-.94 2.06-2.06.94zm-11 1L8.5 8.5l.94-2.06 2.06-.94-2.06-.94L8.5 2.5l-.94 2.06-2.06.94zm10 10l.94 2.06.94-2.06 2.06-.94-2.06-.94-.94-2.06-.94 2.06-2.06.94z\"/><path d=\"M17.41 7.96l-1.37-1.37c-.4-.4-.92-.59-1.43-.59-.52 0-1.04.2-1.43.59L10.3 9.45l-7.72 7.72c-.78.78-.78 2.05 0 2.83L4 21.41c.39.39.9.59 1.41.59.51 0 1.02-.2 1.41-.59l7.78-7.78 2.81-2.81c.8-.78.8-2.07 0-2.86zM5.41 20L4 18.59l7.72-7.72 1.47 1.35L5.41 20z\"/>\n",
              "  </svg>\n",
              "      </button>\n",
              "      \n",
              "  <style>\n",
              "    .colab-df-container {\n",
              "      display:flex;\n",
              "      flex-wrap:wrap;\n",
              "      gap: 12px;\n",
              "    }\n",
              "\n",
              "    .colab-df-convert {\n",
              "      background-color: #E8F0FE;\n",
              "      border: none;\n",
              "      border-radius: 50%;\n",
              "      cursor: pointer;\n",
              "      display: none;\n",
              "      fill: #1967D2;\n",
              "      height: 32px;\n",
              "      padding: 0 0 0 0;\n",
              "      width: 32px;\n",
              "    }\n",
              "\n",
              "    .colab-df-convert:hover {\n",
              "      background-color: #E2EBFA;\n",
              "      box-shadow: 0px 1px 2px rgba(60, 64, 67, 0.3), 0px 1px 3px 1px rgba(60, 64, 67, 0.15);\n",
              "      fill: #174EA6;\n",
              "    }\n",
              "\n",
              "    [theme=dark] .colab-df-convert {\n",
              "      background-color: #3B4455;\n",
              "      fill: #D2E3FC;\n",
              "    }\n",
              "\n",
              "    [theme=dark] .colab-df-convert:hover {\n",
              "      background-color: #434B5C;\n",
              "      box-shadow: 0px 1px 3px 1px rgba(0, 0, 0, 0.15);\n",
              "      filter: drop-shadow(0px 1px 2px rgba(0, 0, 0, 0.3));\n",
              "      fill: #FFFFFF;\n",
              "    }\n",
              "  </style>\n",
              "\n",
              "      <script>\n",
              "        const buttonEl =\n",
              "          document.querySelector('#df-fa0d6bad-885c-4e84-b33f-0c73286829a6 button.colab-df-convert');\n",
              "        buttonEl.style.display =\n",
              "          google.colab.kernel.accessAllowed ? 'block' : 'none';\n",
              "\n",
              "        async function convertToInteractive(key) {\n",
              "          const element = document.querySelector('#df-fa0d6bad-885c-4e84-b33f-0c73286829a6');\n",
              "          const dataTable =\n",
              "            await google.colab.kernel.invokeFunction('convertToInteractive',\n",
              "                                                     [key], {});\n",
              "          if (!dataTable) return;\n",
              "\n",
              "          const docLinkHtml = 'Like what you see? Visit the ' +\n",
              "            '<a target=\"_blank\" href=https://colab.research.google.com/notebooks/data_table.ipynb>data table notebook</a>'\n",
              "            + ' to learn more about interactive tables.';\n",
              "          element.innerHTML = '';\n",
              "          dataTable['output_type'] = 'display_data';\n",
              "          await google.colab.output.renderOutput(dataTable, element);\n",
              "          const docLink = document.createElement('div');\n",
              "          docLink.innerHTML = docLinkHtml;\n",
              "          element.appendChild(docLink);\n",
              "        }\n",
              "      </script>\n",
              "    </div>\n",
              "  </div>\n",
              "  "
            ],
            "text/plain": [
              "        scaled_amount  scaled_time        V1  ...       V27       V28  Class\n",
              "89563        1.928317    -0.259225  1.045790  ... -0.016337  0.025309      0\n",
              "42700        0.115420    -0.510908 -8.440284  ...  0.792691  0.067790      1\n",
              "93377       -0.293440    -0.238607 -0.655168  ...  0.322096  0.180763      0\n",
              "245556       4.694334     0.800174  1.322724  ...  0.002654  0.072386      1\n",
              "154718      -0.307413     0.211198 -5.603690  ... -0.106625 -0.479662      1\n",
              "\n",
              "[5 rows x 31 columns]"
            ]
          },
          "metadata": {},
          "execution_count": 164
        }
      ]
    },
    {
      "cell_type": "code",
      "source": [
        "# Apresenta graficamante a distribuição das classe no Sub-Conjunto balanceado \n",
        "print(new_df['Class'].value_counts()/len(new_df))\n",
        "\n",
        "\n",
        "\n",
        "sns.countplot('Class', data=new_df, palette=colors)\n",
        "plt.title('Classes distribuídas igualmente', fontsize=14)\n",
        "plt.show()"
      ],
      "metadata": {
        "colab": {
          "base_uri": "https://localhost:8080/",
          "height": 348
        },
        "id": "gFoMND69uOb_",
        "outputId": "451f7ebb-155d-41e4-c122-5c802cf875c3"
      },
      "execution_count": 165,
      "outputs": [
        {
          "output_type": "stream",
          "name": "stdout",
          "text": [
            "0    0.5\n",
            "1    0.5\n",
            "Name: Class, dtype: float64\n"
          ]
        },
        {
          "output_type": "display_data",
          "data": {
            "image/png": "[encoded data removed]",
            "text/plain": [
              "<Figure size 432x288 with 1 Axes>"
            ]
          },
          "metadata": {
            "needs_background": "light"
          }
        }
      ]
    },
    {
      "cell_type": "markdown",
      "source": [
        " ### Matriz de correlação\n",
        "\n",
        " - Compara a matriz de correlação do DataSet Original estratificado com o DataFrame Balanceado"
      ],
      "metadata": {
        "id": "au-IOVdwGQTx"
      }
    },
    {
      "cell_type": "code",
      "source": [
        "# Comparando a Matriz de correlação do DataSet Estratficado com o DataFrame Balanceado, é possível perceber o quão desbalanceado é a base de dados. Esse desequilibrio interfere diretamente no treinamento do modelo.\n",
        "# Plota os gráficos\n",
        "f, (ax1, ax2) = plt.subplots(2, 1, figsize=(24,20))\n",
        "\n",
        "# Matriz de correlação para o DataSet estratificado\n",
        "corr = data_c.corr()\n",
        "sns.heatmap(corr, cmap='coolwarm_r', annot_kws={'size':20}, ax=ax1)\n",
        "ax1.set_title(\"Matriz de Correlação Desequilibrada - DataSet Estratificado \\n (não usada para referência)\", fontsize=14)\n",
        "\n",
        "# Matriz de correlação para o DataFrame Balanceado\n",
        "sub_sample_corr = new_df.corr()\n",
        "sns.heatmap(sub_sample_corr, cmap='coolwarm_r', annot_kws={'size':20}, ax=ax2)\n",
        "ax2.set_title('Matrix de Correlação para a amostra SubSample - DataFrame Balanceado \\n (usada  como referência)', fontsize=14)\n",
        "plt.show()"
      ],
      "metadata": {
        "colab": {
          "base_uri": "https://localhost:8080/",
          "height": 1000
        },
        "id": "lBl9sRbAuSPb",
        "outputId": "99785c91-f297-4180-b3f0-9410d7fb1252"
      },
      "execution_count": 166,
      "outputs": [
        {
          "output_type": "display_data",
          "data": {
            "image/png": "[encoded data removed]",
            "text/plain": [
              "<Figure size 1728x1440 with 4 Axes>"
            ]
          },
          "metadata": {
            "needs_background": "light"
          }
        }
      ]
    },
    {
      "cell_type": "markdown",
      "source": [
        "### Separa o DataFrame Balanceado em Treino e Teste"
      ],
      "metadata": {
        "id": "2CQo_q6INz0d"
      }
    },
    {
      "cell_type": "code",
      "source": [
        "from sklearn.model_selection import train_test_split"
      ],
      "metadata": {
        "id": "IonlzjmxJBxu"
      },
      "execution_count": 167,
      "outputs": []
    },
    {
      "cell_type": "code",
      "source": [
        "# Separando conjunto de treino e teste\n",
        "X = new_df.drop('Class', axis=1)\n",
        "y = new_df['Class']\n",
        "\n",
        "# Dividindo em conjunto de treino (80%) e teste (20%)\n",
        "X_train, X_test, y_train, y_test = train_test_split(X, y, test_size=0.2, random_state=42)\n",
        "\n",
        "# Armazenando os conjuntos para alimentar os classificadores.\n",
        "X_train = X_train.values\n",
        "X_test = X_test.values\n",
        "y_train = y_train.values\n",
        "y_test = y_test.values"
      ],
      "metadata": {
        "id": "6Kps8TuOFYhZ"
      },
      "execution_count": 168,
      "outputs": []
    },
    {
      "cell_type": "code",
      "source": [
        "from sklearn.linear_model import LogisticRegression\n",
        "from sklearn.svm import SVC\n",
        "from sklearn.neighbors import KNeighborsClassifier\n",
        "from sklearn.tree import DecisionTreeClassifier\n",
        "import collections"
      ],
      "metadata": {
        "id": "ALLRA8nxIW4H"
      },
      "execution_count": 169,
      "outputs": []
    },
    {
      "cell_type": "code",
      "source": [
        "from sklearn.metrics import precision_score, recall_score, f1_score, roc_auc_score, accuracy_score, classification_report, confusion_matrix, recall_score, roc_curve\n",
        "from collections import Counter\n",
        "import warnings\n",
        "warnings.filterwarnings(\"ignore\")"
      ],
      "metadata": {
        "id": "GGSK7lv8KZkb"
      },
      "execution_count": 170,
      "outputs": []
    },
    {
      "cell_type": "markdown",
      "source": [
        "### Instacia classificadores\n",
        "- Logistic Regression\n",
        "- KNeighbors Classifier\n",
        "- Support Vector Classifier - SVC\n",
        "- Decision Tree Classifier"
      ],
      "metadata": {
        "id": "RddbpQ4SFjqJ"
      }
    },
    {
      "cell_type": "code",
      "source": [
        "# Instancia os classificadores\n",
        "classifiers = {\n",
        "    \"LogisiticRegression\": LogisticRegression(),\n",
        "    \"KNearest\": KNeighborsClassifier(),\n",
        "    \"Support Vector Classifier\": SVC(),\n",
        "    \"DecisionTreeClassifier\": DecisionTreeClassifier()\n",
        "}"
      ],
      "metadata": {
        "id": "-G-DSnojHV3d"
      },
      "execution_count": 171,
      "outputs": []
    },
    {
      "cell_type": "code",
      "source": [
        "# Foi usado o GridSearchCV para encontrar os melhores parâmetros para cada classificador\n",
        "from sklearn.model_selection import GridSearchCV\n",
        "\n",
        "\n",
        "# Testa a regressão logística com parâmetros de regularização L1 e L2 e diferentes valores de Coeficiente de Regularização\n",
        "log_reg_params = {\"penalty\": ['l1', 'l2'], 'C': [0.001, 0.01, 0.1, 1, 10, 100, 1000]}\n",
        "grid_log_reg = GridSearchCV(LogisticRegression(), log_reg_params)\n",
        "grid_log_reg.fit(X_train, y_train)\n",
        "# O GridSearchCV obtem automaticamente os melhores parâmetros para regressão logística.\n",
        "log_reg = grid_log_reg.best_estimator_\n",
        "\n",
        "\n",
        "# GridSearchCV escolhe os melhores parâmtros para o classificador KNeighbors\n",
        "knears_params = {\"n_neighbors\": list(range(2,5,1)), 'algorithm': ['auto', 'ball_tree', 'kd_tree', 'brute']}\n",
        "grid_knears = GridSearchCV(KNeighborsClassifier(), knears_params)\n",
        "grid_knears.fit(X_train, y_train)\n",
        "# O GridSearch escolhe os melhores parâmetros para o classificador KNears\n",
        "knears_neighbors = grid_knears.best_estimator_\n",
        "\n",
        "# Support Vector Classifier\n",
        "svc_params = {'C': [0.5, 0.7, 0.9, 1], 'kernel': ['rbf', 'poly', 'sigmoid', 'linear']}\n",
        "grid_svc = GridSearchCV(SVC(), svc_params)\n",
        "grid_svc.fit(X_train, y_train)\n",
        "# O GridSearch escolhe os melhores parâmetros para o classificador SVC\n",
        "svc = grid_svc.best_estimator_\n",
        "\n",
        "# DecisionTree Classifier\n",
        "tree_params = {\"criterion\": [\"gini\", \"entropy\"], \"max_depth\": list(range(2,4,1)), \n",
        "              \"min_samples_leaf\": list(range(5,7,1))}\n",
        "grid_tree = GridSearchCV(DecisionTreeClassifier(), tree_params)\n",
        "grid_tree.fit(X_train, y_train)\n",
        "# O GridSearch escolhe os melhores parâmetros para o classificador tree best estimator\n",
        "tree_clf = grid_tree.best_estimator_"
      ],
      "metadata": {
        "id": "b9AWl3aSIsPV"
      },
      "execution_count": 172,
      "outputs": []
    },
    {
      "cell_type": "markdown",
      "source": [
        "### Definindo o predict para cada classificador"
      ],
      "metadata": {
        "id": "lqbezbK-NX5T"
      }
    },
    {
      "cell_type": "code",
      "source": [
        "# Predict para Regressão Logística\n",
        "lr_pred = log_reg.predict(X_test)\n",
        "\n",
        "# Predict para KNeighbors\n",
        "kn_pred = knears_neighbors.predict(X_test)\n",
        "\n",
        "# Predict para Support Vector Classifier\n",
        "svc_pred = svc.predict(X_test)\n",
        "\n",
        "# Predict para Regressão Logística\n",
        "tree_pred = tree_clf.predict(X_test)"
      ],
      "metadata": {
        "id": "DcHLBuz5Mz_u"
      },
      "execution_count": 173,
      "outputs": []
    },
    {
      "cell_type": "markdown",
      "source": [
        "### Acurácia para cada modelo"
      ],
      "metadata": {
        "id": "dfvBzY3yOgpZ"
      }
    },
    {
      "cell_type": "code",
      "source": [
        "# LR accuracy\n",
        "lr_accuracy=accuracy_score(y_test, lr_pred)\n",
        "\n",
        "# KNeighbors accuracy\n",
        "kn_accuracy=accuracy_score(y_test, kn_pred)\n",
        "\n",
        "# SVC accuracy\n",
        "svc_accuracy=accuracy_score(y_test, svc_pred)\n",
        "\n",
        "# Tree accuracy\n",
        "tree_accuracy=accuracy_score(y_test, tree_pred)"
      ],
      "metadata": {
        "id": "tZX9sJQsOkjL"
      },
      "execution_count": 174,
      "outputs": []
    },
    {
      "cell_type": "code",
      "source": [
        "accuracys = {\n",
        "    \"LR\": lr_accuracy,\n",
        "    \"KN\": kn_accuracy,\n",
        "    \"SVC\": svc_accuracy,\n",
        "    \"Tree\": tree_accuracy\n",
        "}\n",
        "for key, value in accuracys.items():\n",
        "    print(\"Modelo: \", key, \"- acurácia\", value) "
      ],
      "metadata": {
        "colab": {
          "base_uri": "https://localhost:8080/"
        },
        "id": "8TMvBflZiIu6",
        "outputId": "7f5eb970-5ab4-455d-a804-d70b73c890c9"
      },
      "execution_count": 175,
      "outputs": [
        {
          "output_type": "stream",
          "name": "stdout",
          "text": [
            "Modelo:  LR - acurácia 0.9289340101522843\n",
            "Modelo:  KN - acurácia 0.9137055837563451\n",
            "Modelo:  SVC - acurácia 0.9289340101522843\n",
            "Modelo:  Tree - acurácia 0.9035532994923858\n"
          ]
        }
      ]
    },
    {
      "cell_type": "markdown",
      "source": [
        "### Métricas de Desempenho\n",
        "\n",
        "- True Positives: Transações de Fraude Classificadas Corretamente\n",
        "\n",
        "- False Positives: Transações fraudulentas classificadas incorretamente\n",
        "\n",
        "- True Negative: Transações não fraudulentas classificadas corretamente\n",
        "\n",
        "- False Negative: Transações não fraudulentas classificadas incorretamente\n",
        "\n",
        "- Precision: True Positives/(True Positives + False Positives)\n",
        "\n",
        "- Recall: True Positives/(True Positives + False Negatives)\n",
        "\n",
        "- Precisão como o nome diz, diz quão preciso (quão seguro) é o modelo na detecção de transações de fraude, enquanto o recall é a quantidade de casos de fraude que o modelo é capaz de detectar.\n",
        "\n",
        "- Precisão/Recall Tradeoff: Quanto mais preciso (seletivo) o modelo for, menos casos ele detectará. Exemplo: Supondo que nosso modelo tenha uma precisão de 95%, digamos que existam apenas 5 casos de fraude em que o modelo seja 95% preciso ou mais que são casos de fraude. Então digamos que há mais 5 casos que nosso modelo considera 90% como um caso de fraude, se diminuirmos a precisão, há mais casos que nosso modelo poderá detectar."
      ],
      "metadata": {
        "id": "YRQ1YxgcQx1z"
      }
    },
    {
      "cell_type": "code",
      "source": [
        "# f1 score\n",
        "lr_f1=f1_score(y_test, lr_pred)\n",
        "\n",
        "kn_f1=f1_score(y_test, kn_pred)\n",
        "\n",
        "svc_f1=f1_score(y_test, svc_pred)\n",
        "\n",
        "tree_f1=f1_score(y_test, tree_pred)"
      ],
      "metadata": {
        "id": "z9rTTTqrQ1xp"
      },
      "execution_count": 176,
      "outputs": []
    },
    {
      "cell_type": "code",
      "source": [
        "f1s = {\n",
        "    \"LR\": lr_f1,\n",
        "    \"KN\": kn_f1,\n",
        "    \"SVC\": svc_f1,\n",
        "    \"Tree\": tree_f1\n",
        "}\n",
        "for key, value in f1s.items():\n",
        "    print(\"Modelo: \", key, \"- F1 Score\", value)"
      ],
      "metadata": {
        "colab": {
          "base_uri": "https://localhost:8080/"
        },
        "id": "1Y1abnXskffP",
        "outputId": "6c3bbb20-06e7-4f72-92db-59d625673c35"
      },
      "execution_count": 177,
      "outputs": [
        {
          "output_type": "stream",
          "name": "stdout",
          "text": [
            "Modelo:  LR - F1 Score 0.9333333333333333\n",
            "Modelo:  KN - F1 Score 0.919431279620853\n",
            "Modelo:  SVC - F1 Score 0.9339622641509434\n",
            "Modelo:  Tree - F1 Score 0.9132420091324202\n"
          ]
        }
      ]
    },
    {
      "cell_type": "code",
      "source": [
        "# confusion matrix\n",
        "lr_cm=pd.DataFrame(confusion_matrix(y_test, lr_pred))\n",
        "\n",
        "kn_cm=pd.DataFrame(confusion_matrix(y_test, kn_pred))\n",
        "\n",
        "svc_cm=pd.DataFrame(confusion_matrix(y_test, svc_pred))\n",
        "\n",
        "tree_cm=pd.DataFrame(confusion_matrix(y_test, tree_pred))"
      ],
      "metadata": {
        "id": "llvetUYoT3Oy"
      },
      "execution_count": 178,
      "outputs": []
    },
    {
      "cell_type": "code",
      "source": [
        "cms = {\n",
        "    \"LR -\": lr_cm,\n",
        "    \"KN -\": kn_cm,\n",
        "    \"SVC -\": svc_cm,\n",
        "    \"Tree -\": tree_cm\n",
        "}\n",
        "for key, value in cms.items():\n",
        "    print(\"Modelo: \", key, \"Matriz de Confusão\\n\", value, \"\\n\")"
      ],
      "metadata": {
        "colab": {
          "base_uri": "https://localhost:8080/"
        },
        "id": "ObzvX24Ml6Cr",
        "outputId": "d839a3b0-665d-48d6-9920-015acc1d4a1c"
      },
      "execution_count": 179,
      "outputs": [
        {
          "output_type": "stream",
          "name": "stdout",
          "text": [
            "Modelo:  LR - Matriz de Confusão\n",
            "     0   1\n",
            "0  85   2\n",
            "1  12  98 \n",
            "\n",
            "Modelo:  KN - Matriz de Confusão\n",
            "     0   1\n",
            "0  83   4\n",
            "1  13  97 \n",
            "\n",
            "Modelo:  SVC - Matriz de Confusão\n",
            "     0   1\n",
            "0  84   3\n",
            "1  11  99 \n",
            "\n",
            "Modelo:  Tree - Matriz de Confusão\n",
            "     0    1\n",
            "0  78    9\n",
            "1  10  100 \n",
            "\n"
          ]
        }
      ]
    },
    {
      "cell_type": "code",
      "source": [
        "#recall\n",
        "\n",
        "lr_recall=recall_score(y_test, lr_pred)\n",
        "\n",
        "kn_recall=recall_score(y_test, kn_pred)\n",
        "\n",
        "svc_recall=recall_score(y_test, svc_pred)\n",
        "\n",
        "tree_recall=recall_score(y_test, tree_pred)"
      ],
      "metadata": {
        "id": "14xkZJaIW0OP"
      },
      "execution_count": 180,
      "outputs": []
    },
    {
      "cell_type": "code",
      "source": [
        "recalls = {\n",
        "    \"LR\": lr_recall,\n",
        "    \"KN\": kn_recall,\n",
        "    \"SVC\": svc_recall,\n",
        "    \"Tree\": tree_recall\n",
        "}\n",
        "for key, value in recalls.items():\n",
        "    print(\"Modelo: \", key, \"- Recall de\", value)"
      ],
      "metadata": {
        "colab": {
          "base_uri": "https://localhost:8080/"
        },
        "id": "9balouSQmsJB",
        "outputId": "fbfb4916-da6d-4e5a-c738-86c68367c80f"
      },
      "execution_count": 181,
      "outputs": [
        {
          "output_type": "stream",
          "name": "stdout",
          "text": [
            "Modelo:  LR - Recall de 0.8909090909090909\n",
            "Modelo:  KN - Recall de 0.8818181818181818\n",
            "Modelo:  SVC - Recall de 0.9\n",
            "Modelo:  Tree - Recall de 0.9090909090909091\n"
          ]
        }
      ]
    },
    {
      "cell_type": "code",
      "source": [
        "# precision\n",
        "lr_precision=precision_score(y_test, lr_pred)\n",
        "\n",
        "kn_precision=precision_score(y_test, kn_pred)\n",
        "\n",
        "svc_precision=precision_score(y_test, svc_pred)\n",
        "\n",
        "tree_precision=precision_score(y_test, tree_pred)\n"
      ],
      "metadata": {
        "id": "edeDAD06tMiD"
      },
      "execution_count": 182,
      "outputs": []
    },
    {
      "cell_type": "code",
      "source": [
        "precisions = {\n",
        "    \"LR\": lr_precision,\n",
        "    \"KN\": kn_precision,\n",
        "    \"SVC\": svc_precision,\n",
        "    \"Tree\": tree_precision\n",
        "}\n",
        "for key, value in precisions.items():\n",
        "    print(\"Modelo: \", key, \" - Precision:\", value)"
      ],
      "metadata": {
        "colab": {
          "base_uri": "https://localhost:8080/"
        },
        "id": "0LcxdszutwGC",
        "outputId": "f0ddaef5-456d-4118-e8f4-c9950b187484"
      },
      "execution_count": 183,
      "outputs": [
        {
          "output_type": "stream",
          "name": "stdout",
          "text": [
            "Modelo:  LR  - Precision: 0.98\n",
            "Modelo:  KN  - Precision: 0.9603960396039604\n",
            "Modelo:  SVC  - Precision: 0.9705882352941176\n",
            "Modelo:  Tree  - Precision: 0.9174311926605505\n"
          ]
        }
      ]
    },
    {
      "cell_type": "code",
      "source": [
        "from sklearn.metrics import roc_curve"
      ],
      "metadata": {
        "id": "WiPIyFA1ZHcB"
      },
      "execution_count": 184,
      "outputs": []
    },
    {
      "cell_type": "code",
      "source": [
        "# Curva ROC\n",
        "from sklearn.metrics import roc_auc_score\n",
        "\n",
        "print('Logistic Regression: ', roc_auc_score(y_test, lr_pred))\n",
        "print('KNears Neighbors: ', roc_auc_score(y_test, kn_pred))\n",
        "print('Support Vector Classifier: ', roc_auc_score(y_test, svc_pred))\n",
        "print('Decision Tree Classifier: ', roc_auc_score(y_test, tree_pred))"
      ],
      "metadata": {
        "colab": {
          "base_uri": "https://localhost:8080/"
        },
        "id": "n0ZnCYX6ZnfI",
        "outputId": "a48337a3-f2de-49d2-9a6b-fff54abfdd18"
      },
      "execution_count": 185,
      "outputs": [
        {
          "output_type": "stream",
          "name": "stdout",
          "text": [
            "Logistic Regression:  0.9339602925809822\n",
            "KNears Neighbors:  0.9179205851619645\n",
            "Support Vector Classifier:  0.9327586206896551\n",
            "Decision Tree Classifier:  0.9028213166144201\n"
          ]
        }
      ]
    },
    {
      "cell_type": "code",
      "source": [
        "log_fpr, log_tpr, log_thresold = roc_curve(y_test, lr_pred)\n",
        "knear_fpr, knear_tpr, knear_threshold = roc_curve(y_test, kn_pred)\n",
        "svc_fpr, svc_tpr, svc_threshold = roc_curve(y_test, svc_pred)\n",
        "tree_fpr, tree_tpr, tree_threshold = roc_curve(y_test, tree_pred)\n",
        "\n",
        "\n",
        "def graph_roc_curve_multiple(log_fpr, log_tpr, knear_fpr, knear_tpr, svc_fpr, svc_tpr, tree_fpr, tree_tpr):\n",
        "    plt.figure(figsize=(16,8))\n",
        "    plt.title('ROC Curve \\n Top 4 Classifiers', fontsize=18)\n",
        "    plt.plot(log_fpr, log_tpr, label='Logistic Regression Classifier Score: {:.4f}'.format(roc_auc_score(y_test, lr_pred)))\n",
        "    plt.plot(knear_fpr, knear_tpr, label='KNears Neighbors Classifier Score: {:.4f}'.format(roc_auc_score(y_test, kn_pred)))\n",
        "    plt.plot(svc_fpr, svc_tpr, label='Support Vector Classifier Score: {:.4f}'.format(roc_auc_score(y_test, svc_pred)))\n",
        "    plt.plot(tree_fpr, tree_tpr, label='Decision Tree Classifier Score: {:.4f}'.format(roc_auc_score(y_test, tree_pred)))\n",
        "    plt.plot([0, 1], [0, 1], 'k--')\n",
        "    plt.axis([-0.01, 1, 0, 1])\n",
        "    plt.xlabel('False Positive Rate', fontsize=16)\n",
        "    plt.ylabel('True Positive Rate', fontsize=16)\n",
        "    plt.annotate('Minimum ROC Score of 50% \\n (This is the minimum score to get)', xy=(0.5, 0.5), xytext=(0.6, 0.3),\n",
        "                arrowprops=dict(facecolor='#6E726D', shrink=0.05),\n",
        "                )\n",
        "    plt.legend()\n",
        "    \n",
        "graph_roc_curve_multiple(log_fpr, log_tpr, knear_fpr, knear_tpr, svc_fpr, svc_tpr, tree_fpr, tree_tpr)\n",
        "plt.show()"
      ],
      "metadata": {
        "colab": {
          "base_uri": "https://localhost:8080/",
          "height": 543
        },
        "id": "3kSrJV-YXoJW",
        "outputId": "839686b8-b2b3-42d0-a328-dc1806427442"
      },
      "execution_count": 186,
      "outputs": [
        {
          "output_type": "display_data",
          "data": {
            "image/png": "[encoded data removed]",
            "text/plain": [
              "<Figure size 1152x576 with 1 Axes>"
            ]
          },
          "metadata": {
            "needs_background": "light"
          }
        }
      ]
    }
  ]
}